{
 "cells": [
  {
   "cell_type": "code",
   "execution_count": null,
   "id": "08654c5a",
   "metadata": {
    "_cell_guid": "b1076dfc-b9ad-4769-8c92-a6c4dae69d19",
    "_uuid": "8f2839f25d086af736a60e9eeb907d3b93b6e0e5",
    "execution": {
     "iopub.execute_input": "2024-04-24T05:39:01.959954Z",
     "iopub.status.busy": "2024-04-24T05:39:01.959064Z",
     "iopub.status.idle": "2024-04-24T05:43:15.793597Z",
     "shell.execute_reply": "2024-04-24T05:43:15.792426Z"
    },
    "papermill": {
     "duration": 253.845393,
     "end_time": "2024-04-24T05:43:15.796129",
     "exception": false,
     "start_time": "2024-04-24T05:39:01.950736",
     "status": "completed"
    },
    "tags": []
   },
   "outputs": [],
   "source": [
    "!pip install -Uq /kaggle/input/llm-whls/bitsandbytes-0.41.1-py3-none-any.whl\n",
    "!pip install -Uq /kaggle/input/library-off-for-llm/transformers-4.38.2-py3-none-any.whl \n",
    "!pip install -q /kaggle/input/llm-peft-pkg/peft-0.10.0-py3-none-any.whl\n",
    "!pip install -q /kaggle/input/llm-peft-pkg/trl-0.8.1-py3-none-any.whl"
   ]
  },
  {
   "cell_type": "code",
   "execution_count": null,
   "id": "42b551ea",
   "metadata": {
    "execution": {
     "iopub.execute_input": "2024-04-24T05:43:15.811049Z",
     "iopub.status.busy": "2024-04-24T05:43:15.810689Z",
     "iopub.status.idle": "2024-04-24T05:43:26.314058Z",
     "shell.execute_reply": "2024-04-24T05:43:26.313230Z"
    },
    "papermill": {
     "duration": 10.513317,
     "end_time": "2024-04-24T05:43:26.316431",
     "exception": false,
     "start_time": "2024-04-24T05:43:15.803114",
     "status": "completed"
    },
    "tags": []
   },
   "outputs": [],
   "source": [
    "import numpy as np\n",
    "import pandas as pd\n",
    "from tqdm.auto import tqdm\n",
    "\n",
    "import torch\n",
    "from peft import PeftConfig, PeftModel\n",
    "from transformers import AutoModelForCausalLM, AutoTokenizer\n",
    "from transformers import BitsAndBytesConfig\n",
    "\n",
    "# 禁用一些CUDA优化以节省内存\n",
    "torch.backends.cuda.enable_mem_efficient_sdp(False)\n",
    "torch.backends.cuda.enable_flash_sdp(False)\n",
    "\n",
    "device = torch.device(\"cuda\" if torch.cuda.is_available() else \"cpu\")"
   ]
  },
  {
   "cell_type": "code",
   "execution_count": null,
   "id": "313d4d36",
   "metadata": {
    "execution": {
     "iopub.execute_input": "2024-04-24T05:43:26.330423Z",
     "iopub.status.busy": "2024-04-24T05:43:26.329991Z",
     "iopub.status.idle": "2024-04-24T05:43:26.334116Z",
     "shell.execute_reply": "2024-04-24T05:43:26.333279Z"
    },
    "papermill": {
     "duration": 0.013366,
     "end_time": "2024-04-24T05:43:26.336026",
     "exception": false,
     "start_time": "2024-04-24T05:43:26.322660",
     "status": "completed"
    },
    "tags": []
   },
   "outputs": [],
   "source": [
    "input_token_len = 1024 # 输入token最大长度\n",
    "output_token_len = 100 # 输出token最大长度"
   ]
  },
  {
   "cell_type": "code",
   "execution_count": null,
   "id": "0aaba82e",
   "metadata": {
    "execution": {
     "iopub.execute_input": "2024-04-24T05:43:26.349205Z",
     "iopub.status.busy": "2024-04-24T05:43:26.348933Z",
     "iopub.status.idle": "2024-04-24T05:43:26.361139Z",
     "shell.execute_reply": "2024-04-24T05:43:26.360387Z"
    },
    "papermill": {
     "duration": 0.020959,
     "end_time": "2024-04-24T05:43:26.363010",
     "exception": false,
     "start_time": "2024-04-24T05:43:26.342051",
     "status": "completed"
    },
    "tags": []
   },
   "outputs": [],
   "source": [
    "# 读取测试集数据\n",
    "test_df = pd.read_csv('/kaggle/input/llm-prompt-recovery/test.csv')\n",
    "# 定义基础模型和lora适配器模型的路径\n",
    "base_model_name = \"/kaggle/input/mistral-7b-it-v02\"\n",
    "adapter_model_name = \"/kaggle/input/mistral-7b/mistral_7b_099999_lr0.0001_5ep_lora(r16,a32,d0.05,default)\""
   ]
  },
  {
   "cell_type": "code",
   "execution_count": null,
   "id": "0da42272",
   "metadata": {
    "execution": {
     "iopub.execute_input": "2024-04-24T05:43:26.417490Z",
     "iopub.status.busy": "2024-04-24T05:43:26.417023Z",
     "iopub.status.idle": "2024-04-24T05:43:26.545079Z",
     "shell.execute_reply": "2024-04-24T05:43:26.544016Z"
    },
    "papermill": {
     "duration": 0.137445,
     "end_time": "2024-04-24T05:43:26.547569",
     "exception": false,
     "start_time": "2024-04-24T05:43:26.410124",
     "status": "completed"
    },
    "tags": []
   },
   "outputs": [],
   "source": [
    "# 加载预训练模型的tokenizer\n",
    "tokenizer = AutoTokenizer.from_pretrained(base_model_name,trust_remote_code=True)\n",
    "if tokenizer.pad_token is None:\n",
    "    tokenizer.pad_token = tokenizer.eos_token"
   ]
  },
  {
   "cell_type": "code",
   "execution_count": null,
   "id": "ed642a4d",
   "metadata": {
    "execution": {
     "iopub.execute_input": "2024-04-24T05:43:26.561926Z",
     "iopub.status.busy": "2024-04-24T05:43:26.561323Z",
     "iopub.status.idle": "2024-04-24T05:43:26.567292Z",
     "shell.execute_reply": "2024-04-24T05:43:26.566536Z"
    },
    "papermill": {
     "duration": 0.015286,
     "end_time": "2024-04-24T05:43:26.569301",
     "exception": false,
     "start_time": "2024-04-24T05:43:26.554015",
     "status": "completed"
    },
    "tags": []
   },
   "outputs": [],
   "source": [
    "# 设置BitsAndBytesConfig 4bit量化配置\n",
    "bnb_config = BitsAndBytesConfig(\n",
    "   load_in_4bit=True,\n",
    "   bnb_4bit_quant_type=\"nf4\",\n",
    "   bnb_4bit_use_double_quant=True,\n",
    "   bnb_4bit_compute_dtype=torch.bfloat16\n",
    ")"
   ]
  },
  {
   "cell_type": "code",
   "execution_count": null,
   "id": "675f0d35",
   "metadata": {
    "execution": {
     "iopub.execute_input": "2024-04-24T05:43:26.582593Z",
     "iopub.status.busy": "2024-04-24T05:43:26.582299Z",
     "iopub.status.idle": "2024-04-24T05:45:18.842131Z",
     "shell.execute_reply": "2024-04-24T05:45:18.841237Z"
    },
    "papermill": {
     "duration": 112.26903,
     "end_time": "2024-04-24T05:45:18.844636",
     "exception": false,
     "start_time": "2024-04-24T05:43:26.575606",
     "status": "completed"
    },
    "tags": []
   },
   "outputs": [],
   "source": [
    "# 加载预训练模型\n",
    "model = AutoModelForCausalLM.from_pretrained(\n",
    "    base_model_name,\n",
    "    quantization_config=bnb_config, # 应用4bit量化配置\n",
    "    trust_remote_code=True, # 信任远程代码\n",
    "    device_map=\"auto\", # 自动进行设备映射\n",
    "    use_auth_token=True\n",
    ")\n",
    "\n",
    "# 加载LoRA适配器\n",
    "model = PeftModel.from_pretrained(\n",
    "    model, \n",
    "    adapter_model_name,\n",
    "    quantization_config=bnb_config,\n",
    "    torch_dtype=torch.bfloat16,\n",
    "    device_map=\"auto\",\n",
    ")\n",
    "\n",
    "model.to(device)\n",
    "model.eval()"
   ]
  },
  {
   "cell_type": "code",
   "execution_count": null,
   "id": "9b410b0c",
   "metadata": {
    "execution": {
     "iopub.execute_input": "2024-04-24T05:45:19.062970Z",
     "iopub.status.busy": "2024-04-24T05:45:19.062632Z",
     "iopub.status.idle": "2024-04-24T05:45:19.070420Z",
     "shell.execute_reply": "2024-04-24T05:45:19.069583Z"
    },
    "papermill": {
     "duration": 0.017413,
     "end_time": "2024-04-24T05:45:19.072416",
     "exception": false,
     "start_time": "2024-04-24T05:45:19.055003",
     "status": "completed"
    },
    "tags": []
   },
   "outputs": [],
   "source": [
    "def text_generate(ori_text, rew_text, model, tokenizer, input_max_len=512, output_len=20, device='cuda'):\n",
    "    '''\n",
    "    使用模型生成回复\n",
    "    '''\n",
    "    # 构建输入prompt\n",
    "    prompt = f\"Instruct: Original Text:{ori_text}\\nRewritten Text:{rew_text}\\nWrite a prompt that was likely given to the LLM to rewrite original text into rewritten text.\\nOutput:\"\n",
    "    # 对输入进行tokenize,限制最大长度,返回PyTorch张量\n",
    "    inputs = tokenizer(prompt, max_length=input_max_len, truncation=True, return_tensors=\"pt\", return_attention_mask=False)\n",
    "    # 将数据移动到gpu\n",
    "    inputs = {k:v.to(device) for k,v in inputs.items()}\n",
    "    \n",
    "    # 计算输入token数量\n",
    "    input_token_len = len(inputs.input_ids[0])\n",
    "    # 计算生成的最大长度\n",
    "    max_len = input_token_len + output_len\n",
    "    # 使用模型生成文本\n",
    "    outputs = model.generate(**inputs,\n",
    "                         do_sample=False,\n",
    "                         max_length=max_len,\n",
    "                         pad_token_id=tokenizer.pad_token_id,\n",
    "                         )\n",
    "    # 解码生成的token为文本\n",
    "    text = tokenizer.batch_decode(outputs, skip_special_tokens=True, clean_up_tokenization_spaces=False)[0]\n",
    "    # 找到生成文本的起始位置\n",
    "    start_index = text.find('Output:')\n",
    "    # 提取生成的文本\n",
    "    generated_text = text[start_index+len('Output:'):].strip()\n",
    "    return generated_text"
   ]
  },
  {
   "cell_type": "code",
   "execution_count": null,
   "id": "2f62d43a",
   "metadata": {
    "execution": {
     "iopub.execute_input": "2024-04-24T05:45:19.086496Z",
     "iopub.status.busy": "2024-04-24T05:45:19.086214Z",
     "iopub.status.idle": "2024-04-24T05:45:19.090938Z",
     "shell.execute_reply": "2024-04-24T05:45:19.090045Z"
    },
    "papermill": {
     "duration": 0.014215,
     "end_time": "2024-04-24T05:45:19.093111",
     "exception": false,
     "start_time": "2024-04-24T05:45:19.078896",
     "status": "completed"
    },
    "tags": []
   },
   "outputs": [],
   "source": [
    "# 通用平均prompt\n",
    "mean_prompt = \"improve phrasing text lucrarea tone lucrarea rewrite this creatively formalize discours involving lucrarea anyone emulate lucrarea description send casual perspective information alter it lucrarea ss plotline speaker recommend doing if elegy tone lucrarea more com n paraphrase ss forward this st text redesign poem above etc possible llm clear lucrarea\""
   ]
  },
  {
   "cell_type": "code",
   "execution_count": null,
   "id": "ba29bf83",
   "metadata": {
    "execution": {
     "iopub.execute_input": "2024-04-24T05:45:19.128041Z",
     "iopub.status.busy": "2024-04-24T05:45:19.127752Z",
     "iopub.status.idle": "2024-04-24T05:45:19.747778Z",
     "shell.execute_reply": "2024-04-24T05:45:19.746240Z"
    },
    "papermill": {
     "duration": 0.629929,
     "end_time": "2024-04-24T05:45:19.749975",
     "exception": false,
     "start_time": "2024-04-24T05:45:19.120046",
     "status": "completed"
    },
    "tags": []
   },
   "outputs": [],
   "source": [
    "rewrite_prompts = []\n",
    "# 遍历测试集数据\n",
    "for i, row in tqdm(test_df.iterrows(), total=len(test_df)):\n",
    "    try:\n",
    "        # 使用模型生成rewrite prompt\n",
    "        prompt = text_generate(row['original_text'],\n",
    "                               row['rewritten_text'],\n",
    "                               model,\n",
    "                               tokenizer,\n",
    "                               input_token_len,\n",
    "                               output_token_len,\n",
    "                               device,\n",
    "                               )\n",
    "        # 将生成的prompt拼接上平均prompt\n",
    "        prompt += mean_prompt\n",
    "    except:\n",
    "        # 如果生成失败,直接使用平均prompt\n",
    "        prompt = mean_prompt\n",
    "        \n",
    "    rewrite_prompts.append(prompt)"
   ]
  },
  {
   "cell_type": "code",
   "execution_count": null,
   "id": "94710d0c",
   "metadata": {
    "execution": {
     "iopub.execute_input": "2024-04-24T05:45:19.814538Z",
     "iopub.status.busy": "2024-04-24T05:45:19.813724Z",
     "iopub.status.idle": "2024-04-24T05:45:19.829712Z",
     "shell.execute_reply": "2024-04-24T05:45:19.828892Z"
    },
    "papermill": {
     "duration": 0.026375,
     "end_time": "2024-04-24T05:45:19.831860",
     "exception": false,
     "start_time": "2024-04-24T05:45:19.805485",
     "status": "completed"
    },
    "tags": []
   },
   "outputs": [],
   "source": [
    "# 将生成的rewrite prompt添加到DataFrame中\n",
    "test_df['rewrite_prompt'] = rewrite_prompts\n",
    "sub_df = test_df[['id', 'rewrite_prompt']] # # 只保留id和rewrite_prompt两列\n",
    "sub_df.to_csv('submission.csv', index=False)"
   ]
  }
 ],
 "metadata": {
  "kaggle": {
   "accelerator": "nvidiaTeslaT4",
   "dataSources": [
    {
     "databundleVersionId": 7806901,
     "sourceId": 67121,
     "sourceType": "competition"
    },
    {
     "datasetId": 3600418,
     "sourceId": 6572938,
     "sourceType": "datasetVersion"
    },
    {
     "datasetId": 4634330,
     "sourceId": 7893017,
     "sourceType": "datasetVersion"
    },
    {
     "datasetId": 4656352,
     "sourceId": 7923821,
     "sourceType": "datasetVersion"
    },
    {
     "datasetId": 4863546,
     "sourceId": 8207761,
     "sourceType": "datasetVersion"
    },
    {
     "sourceId": 164964691,
     "sourceType": "kernelVersion"
    },
    {
     "modelInstanceId": 8658,
     "sourceId": 10716,
     "sourceType": "modelInstanceVersion"
    },
    {
     "modelInstanceId": 17852,
     "sourceId": 21555,
     "sourceType": "modelInstanceVersion"
    }
   ],
   "dockerImageVersionId": 30674,
   "isGpuEnabled": true,
   "isInternetEnabled": false,
   "language": "python",
   "sourceType": "notebook"
  },
  "kernelspec": {
   "display_name": "Python 3",
   "language": "python",
   "name": "python3"
  },
  "language_info": {
   "codemirror_mode": {
    "name": "ipython",
    "version": 3
   },
   "file_extension": ".py",
   "mimetype": "text/x-python",
   "name": "python",
   "nbconvert_exporter": "python",
   "pygments_lexer": "ipython3",
   "version": "3.10.13"
  },
  "papermill": {
   "default_parameters": {},
   "duration": 383.602338,
   "end_time": "2024-04-24T05:45:22.380936",
   "environment_variables": {},
   "exception": null,
   "input_path": "__notebook__.ipynb",
   "output_path": "__notebook__.ipynb",
   "parameters": {},
   "start_time": "2024-04-24T05:38:58.778598",
   "version": "2.5.0"
  },
  "widgets": {
   "application/vnd.jupyter.widget-state+json": {
    "state": {
     "0a9933d17adb427fbc254da9c3a4c382": {
      "model_module": "@jupyter-widgets/base",
      "model_module_version": "1.2.0",
      "model_name": "LayoutModel",
      "state": {
       "_model_module": "@jupyter-widgets/base",
       "_model_module_version": "1.2.0",
       "_model_name": "LayoutModel",
       "_view_count": null,
       "_view_module": "@jupyter-widgets/base",
       "_view_module_version": "1.2.0",
       "_view_name": "LayoutView",
       "align_content": null,
       "align_items": null,
       "align_self": null,
       "border": null,
       "bottom": null,
       "display": null,
       "flex": null,
       "flex_flow": null,
       "grid_area": null,
       "grid_auto_columns": null,
       "grid_auto_flow": null,
       "grid_auto_rows": null,
       "grid_column": null,
       "grid_gap": null,
       "grid_row": null,
       "grid_template_areas": null,
       "grid_template_columns": null,
       "grid_template_rows": null,
       "height": null,
       "justify_content": null,
       "justify_items": null,
       "left": null,
       "margin": null,
       "max_height": null,
       "max_width": null,
       "min_height": null,
       "min_width": null,
       "object_fit": null,
       "object_position": null,
       "order": null,
       "overflow": null,
       "overflow_x": null,
       "overflow_y": null,
       "padding": null,
       "right": null,
       "top": null,
       "visibility": null,
       "width": null
      }
     },
     "3f4a66004c9f4a909710572682030afb": {
      "model_module": "@jupyter-widgets/controls",
      "model_module_version": "1.5.0",
      "model_name": "ProgressStyleModel",
      "state": {
       "_model_module": "@jupyter-widgets/controls",
       "_model_module_version": "1.5.0",
       "_model_name": "ProgressStyleModel",
       "_view_count": null,
       "_view_module": "@jupyter-widgets/base",
       "_view_module_version": "1.2.0",
       "_view_name": "StyleView",
       "bar_color": null,
       "description_width": ""
      }
     },
     "60ef07b94e3f471293ca15ce74414a3f": {
      "model_module": "@jupyter-widgets/controls",
      "model_module_version": "1.5.0",
      "model_name": "HTMLModel",
      "state": {
       "_dom_classes": [],
       "_model_module": "@jupyter-widgets/controls",
       "_model_module_version": "1.5.0",
       "_model_name": "HTMLModel",
       "_view_count": null,
       "_view_module": "@jupyter-widgets/controls",
       "_view_module_version": "1.5.0",
       "_view_name": "HTMLView",
       "description": "",
       "description_tooltip": null,
       "layout": "IPY_MODEL_f182a82811f349429938d167aca863b1",
       "placeholder": "​",
       "style": "IPY_MODEL_7b30b3910bed48339aa89818fc52e996",
       "value": "Loading checkpoint shards: 100%"
      }
     },
     "6163c4d23f1643d4a88ab3bb716ff678": {
      "model_module": "@jupyter-widgets/controls",
      "model_module_version": "1.5.0",
      "model_name": "FloatProgressModel",
      "state": {
       "_dom_classes": [],
       "_model_module": "@jupyter-widgets/controls",
       "_model_module_version": "1.5.0",
       "_model_name": "FloatProgressModel",
       "_view_count": null,
       "_view_module": "@jupyter-widgets/controls",
       "_view_module_version": "1.5.0",
       "_view_name": "ProgressView",
       "bar_style": "success",
       "description": "",
       "description_tooltip": null,
       "layout": "IPY_MODEL_eda5f62fa2d542d48d161a4514316f1e",
       "max": 1,
       "min": 0,
       "orientation": "horizontal",
       "style": "IPY_MODEL_9c1861f2e79d482284b126f294be5050",
       "value": 1
      }
     },
     "66beadd425e245c181a78d087a5b1ad0": {
      "model_module": "@jupyter-widgets/base",
      "model_module_version": "1.2.0",
      "model_name": "LayoutModel",
      "state": {
       "_model_module": "@jupyter-widgets/base",
       "_model_module_version": "1.2.0",
       "_model_name": "LayoutModel",
       "_view_count": null,
       "_view_module": "@jupyter-widgets/base",
       "_view_module_version": "1.2.0",
       "_view_name": "LayoutView",
       "align_content": null,
       "align_items": null,
       "align_self": null,
       "border": null,
       "bottom": null,
       "display": null,
       "flex": null,
       "flex_flow": null,
       "grid_area": null,
       "grid_auto_columns": null,
       "grid_auto_flow": null,
       "grid_auto_rows": null,
       "grid_column": null,
       "grid_gap": null,
       "grid_row": null,
       "grid_template_areas": null,
       "grid_template_columns": null,
       "grid_template_rows": null,
       "height": null,
       "justify_content": null,
       "justify_items": null,
       "left": null,
       "margin": null,
       "max_height": null,
       "max_width": null,
       "min_height": null,
       "min_width": null,
       "object_fit": null,
       "object_position": null,
       "order": null,
       "overflow": null,
       "overflow_x": null,
       "overflow_y": null,
       "padding": null,
       "right": null,
       "top": null,
       "visibility": null,
       "width": null
      }
     },
     "689505e59f9546ba82ef02cbcf4b3e42": {
      "model_module": "@jupyter-widgets/base",
      "model_module_version": "1.2.0",
      "model_name": "LayoutModel",
      "state": {
       "_model_module": "@jupyter-widgets/base",
       "_model_module_version": "1.2.0",
       "_model_name": "LayoutModel",
       "_view_count": null,
       "_view_module": "@jupyter-widgets/base",
       "_view_module_version": "1.2.0",
       "_view_name": "LayoutView",
       "align_content": null,
       "align_items": null,
       "align_self": null,
       "border": null,
       "bottom": null,
       "display": null,
       "flex": null,
       "flex_flow": null,
       "grid_area": null,
       "grid_auto_columns": null,
       "grid_auto_flow": null,
       "grid_auto_rows": null,
       "grid_column": null,
       "grid_gap": null,
       "grid_row": null,
       "grid_template_areas": null,
       "grid_template_columns": null,
       "grid_template_rows": null,
       "height": null,
       "justify_content": null,
       "justify_items": null,
       "left": null,
       "margin": null,
       "max_height": null,
       "max_width": null,
       "min_height": null,
       "min_width": null,
       "object_fit": null,
       "object_position": null,
       "order": null,
       "overflow": null,
       "overflow_x": null,
       "overflow_y": null,
       "padding": null,
       "right": null,
       "top": null,
       "visibility": null,
       "width": null
      }
     },
     "700d4590a6c541b59df85874c5be5da7": {
      "model_module": "@jupyter-widgets/controls",
      "model_module_version": "1.5.0",
      "model_name": "HTMLModel",
      "state": {
       "_dom_classes": [],
       "_model_module": "@jupyter-widgets/controls",
       "_model_module_version": "1.5.0",
       "_model_name": "HTMLModel",
       "_view_count": null,
       "_view_module": "@jupyter-widgets/controls",
       "_view_module_version": "1.5.0",
       "_view_name": "HTMLView",
       "description": "",
       "description_tooltip": null,
       "layout": "IPY_MODEL_d361c936204e432ba22e001903229b09",
       "placeholder": "​",
       "style": "IPY_MODEL_b980443a9dfa4f0fa438e83349e14c6a",
       "value": " 1/1 [00:00&lt;00:00,  1.63it/s]"
      }
     },
     "78835f13b0f64b82b603402c8eb28133": {
      "model_module": "@jupyter-widgets/controls",
      "model_module_version": "1.5.0",
      "model_name": "DescriptionStyleModel",
      "state": {
       "_model_module": "@jupyter-widgets/controls",
       "_model_module_version": "1.5.0",
       "_model_name": "DescriptionStyleModel",
       "_view_count": null,
       "_view_module": "@jupyter-widgets/base",
       "_view_module_version": "1.2.0",
       "_view_name": "StyleView",
       "description_width": ""
      }
     },
     "7b30b3910bed48339aa89818fc52e996": {
      "model_module": "@jupyter-widgets/controls",
      "model_module_version": "1.5.0",
      "model_name": "DescriptionStyleModel",
      "state": {
       "_model_module": "@jupyter-widgets/controls",
       "_model_module_version": "1.5.0",
       "_model_name": "DescriptionStyleModel",
       "_view_count": null,
       "_view_module": "@jupyter-widgets/base",
       "_view_module_version": "1.2.0",
       "_view_name": "StyleView",
       "description_width": ""
      }
     },
     "8dad618029ae46ada4301fe902898a8f": {
      "model_module": "@jupyter-widgets/controls",
      "model_module_version": "1.5.0",
      "model_name": "HTMLModel",
      "state": {
       "_dom_classes": [],
       "_model_module": "@jupyter-widgets/controls",
       "_model_module_version": "1.5.0",
       "_model_name": "HTMLModel",
       "_view_count": null,
       "_view_module": "@jupyter-widgets/controls",
       "_view_module_version": "1.5.0",
       "_view_name": "HTMLView",
       "description": "",
       "description_tooltip": null,
       "layout": "IPY_MODEL_66beadd425e245c181a78d087a5b1ad0",
       "placeholder": "​",
       "style": "IPY_MODEL_78835f13b0f64b82b603402c8eb28133",
       "value": "100%"
      }
     },
     "97d808dc3a1d46549a602a6b23fc295a": {
      "model_module": "@jupyter-widgets/base",
      "model_module_version": "1.2.0",
      "model_name": "LayoutModel",
      "state": {
       "_model_module": "@jupyter-widgets/base",
       "_model_module_version": "1.2.0",
       "_model_name": "LayoutModel",
       "_view_count": null,
       "_view_module": "@jupyter-widgets/base",
       "_view_module_version": "1.2.0",
       "_view_name": "LayoutView",
       "align_content": null,
       "align_items": null,
       "align_self": null,
       "border": null,
       "bottom": null,
       "display": null,
       "flex": null,
       "flex_flow": null,
       "grid_area": null,
       "grid_auto_columns": null,
       "grid_auto_flow": null,
       "grid_auto_rows": null,
       "grid_column": null,
       "grid_gap": null,
       "grid_row": null,
       "grid_template_areas": null,
       "grid_template_columns": null,
       "grid_template_rows": null,
       "height": null,
       "justify_content": null,
       "justify_items": null,
       "left": null,
       "margin": null,
       "max_height": null,
       "max_width": null,
       "min_height": null,
       "min_width": null,
       "object_fit": null,
       "object_position": null,
       "order": null,
       "overflow": null,
       "overflow_x": null,
       "overflow_y": null,
       "padding": null,
       "right": null,
       "top": null,
       "visibility": null,
       "width": null
      }
     },
     "9b3fe2a484194a009d939f5f7f054123": {
      "model_module": "@jupyter-widgets/controls",
      "model_module_version": "1.5.0",
      "model_name": "HTMLModel",
      "state": {
       "_dom_classes": [],
       "_model_module": "@jupyter-widgets/controls",
       "_model_module_version": "1.5.0",
       "_model_name": "HTMLModel",
       "_view_count": null,
       "_view_module": "@jupyter-widgets/controls",
       "_view_module_version": "1.5.0",
       "_view_name": "HTMLView",
       "description": "",
       "description_tooltip": null,
       "layout": "IPY_MODEL_97d808dc3a1d46549a602a6b23fc295a",
       "placeholder": "​",
       "style": "IPY_MODEL_de038e0b636941e295d1c36d90999357",
       "value": " 3/3 [01:48&lt;00:00, 35.81s/it]"
      }
     },
     "9c1861f2e79d482284b126f294be5050": {
      "model_module": "@jupyter-widgets/controls",
      "model_module_version": "1.5.0",
      "model_name": "ProgressStyleModel",
      "state": {
       "_model_module": "@jupyter-widgets/controls",
       "_model_module_version": "1.5.0",
       "_model_name": "ProgressStyleModel",
       "_view_count": null,
       "_view_module": "@jupyter-widgets/base",
       "_view_module_version": "1.2.0",
       "_view_name": "StyleView",
       "bar_color": null,
       "description_width": ""
      }
     },
     "aee9802f71804234af4407eba262c317": {
      "model_module": "@jupyter-widgets/controls",
      "model_module_version": "1.5.0",
      "model_name": "HBoxModel",
      "state": {
       "_dom_classes": [],
       "_model_module": "@jupyter-widgets/controls",
       "_model_module_version": "1.5.0",
       "_model_name": "HBoxModel",
       "_view_count": null,
       "_view_module": "@jupyter-widgets/controls",
       "_view_module_version": "1.5.0",
       "_view_name": "HBoxView",
       "box_style": "",
       "children": [
        "IPY_MODEL_8dad618029ae46ada4301fe902898a8f",
        "IPY_MODEL_6163c4d23f1643d4a88ab3bb716ff678",
        "IPY_MODEL_700d4590a6c541b59df85874c5be5da7"
       ],
       "layout": "IPY_MODEL_0a9933d17adb427fbc254da9c3a4c382"
      }
     },
     "b980443a9dfa4f0fa438e83349e14c6a": {
      "model_module": "@jupyter-widgets/controls",
      "model_module_version": "1.5.0",
      "model_name": "DescriptionStyleModel",
      "state": {
       "_model_module": "@jupyter-widgets/controls",
       "_model_module_version": "1.5.0",
       "_model_name": "DescriptionStyleModel",
       "_view_count": null,
       "_view_module": "@jupyter-widgets/base",
       "_view_module_version": "1.2.0",
       "_view_name": "StyleView",
       "description_width": ""
      }
     },
     "d361c936204e432ba22e001903229b09": {
      "model_module": "@jupyter-widgets/base",
      "model_module_version": "1.2.0",
      "model_name": "LayoutModel",
      "state": {
       "_model_module": "@jupyter-widgets/base",
       "_model_module_version": "1.2.0",
       "_model_name": "LayoutModel",
       "_view_count": null,
       "_view_module": "@jupyter-widgets/base",
       "_view_module_version": "1.2.0",
       "_view_name": "LayoutView",
       "align_content": null,
       "align_items": null,
       "align_self": null,
       "border": null,
       "bottom": null,
       "display": null,
       "flex": null,
       "flex_flow": null,
       "grid_area": null,
       "grid_auto_columns": null,
       "grid_auto_flow": null,
       "grid_auto_rows": null,
       "grid_column": null,
       "grid_gap": null,
       "grid_row": null,
       "grid_template_areas": null,
       "grid_template_columns": null,
       "grid_template_rows": null,
       "height": null,
       "justify_content": null,
       "justify_items": null,
       "left": null,
       "margin": null,
       "max_height": null,
       "max_width": null,
       "min_height": null,
       "min_width": null,
       "object_fit": null,
       "object_position": null,
       "order": null,
       "overflow": null,
       "overflow_x": null,
       "overflow_y": null,
       "padding": null,
       "right": null,
       "top": null,
       "visibility": null,
       "width": null
      }
     },
     "de038e0b636941e295d1c36d90999357": {
      "model_module": "@jupyter-widgets/controls",
      "model_module_version": "1.5.0",
      "model_name": "DescriptionStyleModel",
      "state": {
       "_model_module": "@jupyter-widgets/controls",
       "_model_module_version": "1.5.0",
       "_model_name": "DescriptionStyleModel",
       "_view_count": null,
       "_view_module": "@jupyter-widgets/base",
       "_view_module_version": "1.2.0",
       "_view_name": "StyleView",
       "description_width": ""
      }
     },
     "ebc66d56162241d08337d37d6b6e6706": {
      "model_module": "@jupyter-widgets/controls",
      "model_module_version": "1.5.0",
      "model_name": "FloatProgressModel",
      "state": {
       "_dom_classes": [],
       "_model_module": "@jupyter-widgets/controls",
       "_model_module_version": "1.5.0",
       "_model_name": "FloatProgressModel",
       "_view_count": null,
       "_view_module": "@jupyter-widgets/controls",
       "_view_module_version": "1.5.0",
       "_view_name": "ProgressView",
       "bar_style": "success",
       "description": "",
       "description_tooltip": null,
       "layout": "IPY_MODEL_f21fb754766144a49b56d6b6289ff249",
       "max": 3,
       "min": 0,
       "orientation": "horizontal",
       "style": "IPY_MODEL_3f4a66004c9f4a909710572682030afb",
       "value": 3
      }
     },
     "eda5f62fa2d542d48d161a4514316f1e": {
      "model_module": "@jupyter-widgets/base",
      "model_module_version": "1.2.0",
      "model_name": "LayoutModel",
      "state": {
       "_model_module": "@jupyter-widgets/base",
       "_model_module_version": "1.2.0",
       "_model_name": "LayoutModel",
       "_view_count": null,
       "_view_module": "@jupyter-widgets/base",
       "_view_module_version": "1.2.0",
       "_view_name": "LayoutView",
       "align_content": null,
       "align_items": null,
       "align_self": null,
       "border": null,
       "bottom": null,
       "display": null,
       "flex": null,
       "flex_flow": null,
       "grid_area": null,
       "grid_auto_columns": null,
       "grid_auto_flow": null,
       "grid_auto_rows": null,
       "grid_column": null,
       "grid_gap": null,
       "grid_row": null,
       "grid_template_areas": null,
       "grid_template_columns": null,
       "grid_template_rows": null,
       "height": null,
       "justify_content": null,
       "justify_items": null,
       "left": null,
       "margin": null,
       "max_height": null,
       "max_width": null,
       "min_height": null,
       "min_width": null,
       "object_fit": null,
       "object_position": null,
       "order": null,
       "overflow": null,
       "overflow_x": null,
       "overflow_y": null,
       "padding": null,
       "right": null,
       "top": null,
       "visibility": null,
       "width": null
      }
     },
     "f182a82811f349429938d167aca863b1": {
      "model_module": "@jupyter-widgets/base",
      "model_module_version": "1.2.0",
      "model_name": "LayoutModel",
      "state": {
       "_model_module": "@jupyter-widgets/base",
       "_model_module_version": "1.2.0",
       "_model_name": "LayoutModel",
       "_view_count": null,
       "_view_module": "@jupyter-widgets/base",
       "_view_module_version": "1.2.0",
       "_view_name": "LayoutView",
       "align_content": null,
       "align_items": null,
       "align_self": null,
       "border": null,
       "bottom": null,
       "display": null,
       "flex": null,
       "flex_flow": null,
       "grid_area": null,
       "grid_auto_columns": null,
       "grid_auto_flow": null,
       "grid_auto_rows": null,
       "grid_column": null,
       "grid_gap": null,
       "grid_row": null,
       "grid_template_areas": null,
       "grid_template_columns": null,
       "grid_template_rows": null,
       "height": null,
       "justify_content": null,
       "justify_items": null,
       "left": null,
       "margin": null,
       "max_height": null,
       "max_width": null,
       "min_height": null,
       "min_width": null,
       "object_fit": null,
       "object_position": null,
       "order": null,
       "overflow": null,
       "overflow_x": null,
       "overflow_y": null,
       "padding": null,
       "right": null,
       "top": null,
       "visibility": null,
       "width": null
      }
     },
     "f21fb754766144a49b56d6b6289ff249": {
      "model_module": "@jupyter-widgets/base",
      "model_module_version": "1.2.0",
      "model_name": "LayoutModel",
      "state": {
       "_model_module": "@jupyter-widgets/base",
       "_model_module_version": "1.2.0",
       "_model_name": "LayoutModel",
       "_view_count": null,
       "_view_module": "@jupyter-widgets/base",
       "_view_module_version": "1.2.0",
       "_view_name": "LayoutView",
       "align_content": null,
       "align_items": null,
       "align_self": null,
       "border": null,
       "bottom": null,
       "display": null,
       "flex": null,
       "flex_flow": null,
       "grid_area": null,
       "grid_auto_columns": null,
       "grid_auto_flow": null,
       "grid_auto_rows": null,
       "grid_column": null,
       "grid_gap": null,
       "grid_row": null,
       "grid_template_areas": null,
       "grid_template_columns": null,
       "grid_template_rows": null,
       "height": null,
       "justify_content": null,
       "justify_items": null,
       "left": null,
       "margin": null,
       "max_height": null,
       "max_width": null,
       "min_height": null,
       "min_width": null,
       "object_fit": null,
       "object_position": null,
       "order": null,
       "overflow": null,
       "overflow_x": null,
       "overflow_y": null,
       "padding": null,
       "right": null,
       "top": null,
       "visibility": null,
       "width": null
      }
     },
     "fce974d96af54249920764e6e46a8a95": {
      "model_module": "@jupyter-widgets/controls",
      "model_module_version": "1.5.0",
      "model_name": "HBoxModel",
      "state": {
       "_dom_classes": [],
       "_model_module": "@jupyter-widgets/controls",
       "_model_module_version": "1.5.0",
       "_model_name": "HBoxModel",
       "_view_count": null,
       "_view_module": "@jupyter-widgets/controls",
       "_view_module_version": "1.5.0",
       "_view_name": "HBoxView",
       "box_style": "",
       "children": [
        "IPY_MODEL_60ef07b94e3f471293ca15ce74414a3f",
        "IPY_MODEL_ebc66d56162241d08337d37d6b6e6706",
        "IPY_MODEL_9b3fe2a484194a009d939f5f7f054123"
       ],
       "layout": "IPY_MODEL_689505e59f9546ba82ef02cbcf4b3e42"
      }
     }
    },
    "version_major": 2,
    "version_minor": 0
   }
  }
 },
 "nbformat": 4,
 "nbformat_minor": 5
}
